{
 "cells": [
  {
   "cell_type": "markdown",
   "metadata": {},
   "source": [
    "# Research Notebook\n",
    "## Maxim Astaschov (Goethe University)\n",
    "## Date: 27.01.25"
   ]
  },
  {
   "cell_type": "markdown",
   "source": [
    "# 1: Experience\n",
    "## Describe at least one research activity you worked on this week. \n",
    "\n",
    "- Set up dev environment\n",
    "- Fixed up the tutorial file for the splashback radius and worked through it\n",
    "- Generated a plot similar to the one provided with colossus \n",
    "\n",
    "## Motivation:\n",
    "\n",
    "Colossus is a popular python framework in astrophysics. Working through the tutorial on the splashback radius and generating my own plot helps in understanding how I can make use of this framework in future work."
   ],
   "metadata": {
    "collapsed": false
   }
  },
  {
   "cell_type": "markdown",
   "metadata": {},
   "source": [
    "# 2: What? (What happened?)\n",
    "## Describe what happened during your activities for the week.\n",
    "1. Had to fix the Tutorial-file for the Splashback radius, because of wrong formatting and submitted that as an issue to the Bitbucket repo.\n",
    "2. Worked through the tutorial and had to install the corresponding packages (matplotlib, colossus and so on)\n",
    "3. Changed up one of the tutorial codes to the following, so I can generate the required plot of Figure 6 in Ref [1]:\n",
    "```\n",
    "from colossus.lss import peaks\n",
    "\n",
    "z = 0.0\n",
    "M200m = 1E14\n",
    "nu200m = peaks.peakHeight(M200m, z)\n",
    "Gamma = np.arange(0.0, 5.1, 0.1)\n",
    "\n",
    "plt.figure()\n",
    "plt.xlabel('Accretion rate')\n",
    "plt.ylabel('Rsp/R200m')\n",
    "plt.axis((0, 5, 0.5, 1.6))\n",
    "for model_name in splashback.models:\n",
    "    RspR200m, mask = splashback.splashbackModel('RspR200m', Gamma = Gamma, nu200m = nu200m, z = z, \n",
    "                                model = model_name, rspdef = 'sp-apr-p75', statistic = 'median')\n",
    "    plt.plot(Gamma[mask], RspR200m, label = model_name.replace('_', '\\_'))\n",
    "plt.text(0.2, 0.55, \"$M_{200m}$ = $10^{14}$, z = 0\")\n",
    "plt.legend();\n",
    "```"
   ]
  },
  {
   "cell_type": "markdown",
   "source": [
    "# 3: So what? (What does it mean?)\n",
    "## Describe your results\n",
    "\n",
    "We can see the model predictions for the splashback radius as a function of the mass accretion rate for a halo mass at $$M_{200m} = $10^{14}h^{-1}M_{sun}$$\n",
    "\n",
    "![Figure6Output.png](/img/Figure6Output.png)"
   ],
   "metadata": {
    "collapsed": false
   }
  },
  {
   "cell_type": "markdown",
   "metadata": {},
   "source": [
    "# 4. Now what? (What's next?)\n",
    "## Plan for the next week\n",
    "\n",
    "More exercises with colossus and a deeper understanding of it is required to be able to work with it properly. So experimenting with it and setting new goals which require this framework are a mandatory task for next week."
   ]
  },
  {
   "cell_type": "markdown",
   "source": [],
   "metadata": {
    "collapsed": false
   }
  },
  {
   "cell_type": "markdown",
   "metadata": {},
   "source": [
    "# 5. Bibliography"
   ]
  },
  {
   "cell_type": "markdown",
   "source": [
    "[1] Benedikt Diemer, *COLOSSUS: A PYTHON TOOLKIT FOR COSMOLOGY, LARGE-SCALE STRUCTURE, AND DARK MATTER HALO*, https://arxiv.org/pdf/1712.04512, Accessed: 27/01/25"
   ],
   "metadata": {
    "collapsed": false
   }
  }
 ],
 "metadata": {
  "kernelspec": {
   "display_name": "Python 3",
   "language": "python",
   "name": "python3"
  },
  "language_info": {
   "codemirror_mode": {
    "name": "ipython",
    "version": 3
   },
   "file_extension": ".py",
   "mimetype": "text/x-python",
   "name": "python",
   "nbconvert_exporter": "python",
   "pygments_lexer": "ipython3",
   "version": "3.7.6"
  }
 },
 "nbformat": 4,
 "nbformat_minor": 4
}
