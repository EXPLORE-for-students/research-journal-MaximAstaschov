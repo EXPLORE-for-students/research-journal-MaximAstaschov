{
 "cells": [
  {
   "cell_type": "markdown",
   "metadata": {},
   "source": [
    "# Research Notebook\n",
    "## Maxim Astaschov (Goethe University)\n",
    "## Date: 27.01.25"
   ]
  },
  {
   "cell_type": "markdown",
   "source": [
    "# 1: Experience\n",
    "## Describe at least one research activity you worked on this week. \n",
    "\n",
    "- Searched for data sources for KiDS paper [2] and presentation [3]\n",
    "- Plotted Figure 9 from KiDS paper without data\n",
    "- Prepared next steps by importing colossus as editable and adding a frame for the generalized Adhikari model\n",
    "\n",
    "## Motivation:\n",
    "\n",
    "Searching for data sources of papers is the first step to understand how certain figures in papers are plotted."
   ],
   "metadata": {
    "collapsed": false
   }
  },
  {
   "cell_type": "markdown",
   "metadata": {},
   "source": [
    "# 2: What? (What happened?)\n",
    "## Describe what happened during your activities for the week.\n",
    "1. Searching for the data sources consisted of mainly following along the \"Data\" part of the paper\n",
    "2. While doing so some data source were not properly linked or not available anymore, I had to search through other sources which has the risk of them being not the exact data set that was used\n",
    "3. After that I tried plotting the figure 9 with the help of the data set in the KiDS paper, but realized that I would have to repeat the steps of the paper to get the model-values, which I didn't have the time for\n",
    "4. Instead I used the model-values given in the paper to plot the data-based-result of the paper against the models programmed in Colossus\n",
    "5. Also I imported colossus and modified the splashback.py file in a way that enables me to add the generalized Adhikari model to the Splashback-models\n",
    "```\n",
    "import numpy as np\n",
    "import matplotlib\n",
    "\n",
    "matplotlib.use('TkAgg')\n",
    "import matplotlib.pyplot as plt\n",
    "from colossus.cosmology import cosmology\n",
    "from colossus.halo import splashback\n",
    "\n",
    "for model_name in splashback.models:\n",
    "    print(model_name)\n",
    "\n",
    "\n",
    "def model_from_paper(nu200m):\n",
    "    # Taken from (21) in AMICO galaxy clusters Giocoli et al. 2024\n",
    "    values = []\n",
    "    A = 0.95\n",
    "    B = -0.31\n",
    "\n",
    "    for nu in nu200m:\n",
    "        value = A * (1 + B * np.exp(-nu / 2.44))\n",
    "        values.append(value)\n",
    "\n",
    "    return values\n",
    "\n",
    "\n",
    "def main():\n",
    "    cosmology.setCosmology('planck18')\n",
    "    z = 0.35\n",
    "    nu200m = np.arange(0.5, 4.6, 0.1)\n",
    "\n",
    "    plt.figure()\n",
    "    plt.xlabel(r'$\\nu_{200m}$')\n",
    "    plt.ylabel(r'$R_{sp}$/$R_{200m}$')\n",
    "    plt.xlim(1.5, 4.5)\n",
    "    plt.ylim(0.4, 2.25)\n",
    "    RspR200m, mask = splashback.splashbackModel('RspR200m', nu200m=nu200m, z=z,\n",
    "                                                model=\"more15\", rspdef='sp-apr-p75', statistic='median')\n",
    "    plt.plot(nu200m[mask], RspR200m, label=\"more15\".replace('_', '\\\\_'))\n",
    "\n",
    "    RspR200m, mask = splashback.splashbackModel('RspR200m', nu200m=nu200m, z=z,\n",
    "                                                model=\"diemer20\", rspdef='sp-apr-p75', statistic='median')\n",
    "    plt.plot(nu200m[mask], RspR200m, label=\"diemer20\".replace('_', '\\\\_'))\n",
    "\n",
    "    plt.plot(nu200m[mask], model_from_paper(nu200m), label=\"model (AMICO galaxy clusters Giocoli et al. 2024)\")\n",
    "\n",
    "    plt.legend()\n",
    "\n",
    "    plt.show()\n",
    "\n",
    "\n",
    "main()\n",
    "\n",
    "```"
   ]
  },
  {
   "cell_type": "markdown",
   "source": [
    "# 3: So what? (What does it mean?)\n",
    "## Describe your results\n",
    "\n",
    "I was able to plot the modul results with the provided parameters in the paper together with the models from colossus seen in the figure below. The observed discrepancy between the model and the theoretical predictions is clearly visible.\n",
    "\n",
    "![Figure9OutputWithoutData.png](/img/Figure9OutputWithoutData.png)"
   ],
   "metadata": {
    "collapsed": false
   }
  },
  {
   "cell_type": "markdown",
   "metadata": {},
   "source": [
    "# 4. Now what? (What's next?)\n",
    "## Plan for the next week\n",
    "\n",
    "The next steps involve modifying the Adhikari model to use it in a generalized way and I also want to retry plotting the model with the help of the data set itself."
   ]
  },
  {
   "cell_type": "markdown",
   "source": [],
   "metadata": {
    "collapsed": false
   }
  },
  {
   "cell_type": "markdown",
   "metadata": {},
   "source": [
    "# 5. Bibliography"
   ]
  },
  {
   "cell_type": "markdown",
   "source": [
    "[1] Benedikt Diemer, *COLOSSUS: A PYTHON TOOLKIT FOR COSMOLOGY, LARGE-SCALE STRUCTURE, AND DARK MATTER HALO*, https://arxiv.org/pdf/1712.04512, Accessed: 27/01/25\n",
    "[2] Carlo Giocoli et al., *AMICO galaxy clusters in KiDS-DR3: Measuring the splashback radius from weak gravitational lensing*, https://www.aanda.org/articles/aa/full_html/2024/07/aa49561-24/aa49561-24.html, Accessed: 17/02/25\n",
    "[3] Benedikt Diemer, *AMICO galaxy clusters in KiDS-DR3: Measuring the splashback radius from weak gravitational lensing*, https://www.kicc.cam.ac.uk/system/files/documents/presentation_kicc_diemer.pdf, Accessed: 17/02/25"
   ],
   "metadata": {
    "collapsed": false
   }
  },
  {
   "cell_type": "markdown",
   "source": [],
   "metadata": {
    "collapsed": false
   }
  },
  {
   "cell_type": "markdown",
   "source": [],
   "metadata": {
    "collapsed": false
   }
  }
 ],
 "metadata": {
  "kernelspec": {
   "display_name": "Python 3",
   "language": "python",
   "name": "python3"
  },
  "language_info": {
   "codemirror_mode": {
    "name": "ipython",
    "version": 3
   },
   "file_extension": ".py",
   "mimetype": "text/x-python",
   "name": "python",
   "nbconvert_exporter": "python",
   "pygments_lexer": "ipython3",
   "version": "3.7.6"
  }
 },
 "nbformat": 4,
 "nbformat_minor": 4
}
