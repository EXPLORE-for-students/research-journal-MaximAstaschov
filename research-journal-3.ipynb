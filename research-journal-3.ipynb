{
 "cells": [
  {
   "cell_type": "markdown",
   "metadata": {},
   "source": [
    "# Research Notebook\n",
    "## Maxim Astaschov (Goethe University)\n",
    "## Date: 10.03.2025"
   ]
  },
  {
   "cell_type": "markdown",
   "source": [
    "# 1: Experience\n",
    "## Describe at least one research activity you worked on this week. \n",
    "\n",
    "- Read through paper Adhikari et al. 2014 [2]\n",
    "- Added the fitting function from [2] to colossus code [1]\n",
    "- Worked through necessery steps to implement the complete model\n",
    "\n",
    "## Motivation:\n",
    "\n",
    "The goal is to generalize the model in Adhikari et al. 2014 [2] to be used outside of cold dark matter."
   ],
   "metadata": {
    "collapsed": false
   }
  },
  {
   "cell_type": "markdown",
   "metadata": {},
   "source": [
    "# 2: What? (What happened?)\n",
    "## Describe what happened during your activities for the week.\n",
    "1. Set up a test environment for a new model, which plots both models and also the difference between them\n",
    "2. Implemented a new model into the colossus code, which is a simple copy of the Adhikari14 model already existing there\n",
    "3. Generated the s and Om values as bins and compared to the LUT -> 0m is linspace while s is geomspace\n",
    "4. Changed the intervals to the given intervals in [2]\n",
    "5. Implemented Delta_sp in the form of the given fitting function in [2]\n",
    "6. Let the test environment run both models -> They differ by around 6% in some parts, which is slightly more than the promised ~5% in [2]\n",
    "7. Could not find an error in the code itself and looked up possible ways to implement the model itself\n",
    "```\n",
    "#Test setup:\n",
    "import numpy as np\n",
    "import matplotlib\n",
    "\n",
    "matplotlib.use('TkAgg')\n",
    "import matplotlib.pyplot as plt\n",
    "from colossus.cosmology import cosmology\n",
    "from colossus.halo import splashback\n",
    "from colossus.lss import peaks\n",
    "\n",
    "for model_name in splashback.models:\n",
    "    print(model_name)\n",
    "\n",
    "def main():\n",
    "    cosmology.setCosmology('planck18')\n",
    "    z = 1.0\n",
    "    M200m = 1E12\n",
    "    nu200m = peaks.peakHeight(M200m, z)\n",
    "    Gamma = np.arange(0.0, 4.0, 0.5)\n",
    "\n",
    "    plt.figure()\n",
    "    plt.xlabel('Accretion rate')\n",
    "    plt.ylabel('Rsp/R200m')\n",
    "\n",
    "    RspR200m_ad14, mask_ad14 = splashback.splashbackModel('RspR200m', Gamma=Gamma, nu200m=nu200m, z=z,\n",
    "                                                model=\"adhikari14\", rspdef='sp-apr-p75', statistic='median')\n",
    "    plt.plot(Gamma[mask_ad14], RspR200m_ad14, label=\"adhikari14\".replace('_', '\\\\_'))\n",
    "\n",
    "    RspR200m_ad14gen, mask_ad14gen = splashback.splashbackModel('RspR200m', Gamma=Gamma, nu200m=nu200m, z=z,\n",
    "                                                model=\"adhikari14Generalized\", rspdef='sp-apr-p75', statistic='median')\n",
    "    plt.plot(Gamma[mask_ad14gen], RspR200m_ad14gen, label=\"adhikari14Generalized\".replace('_', '\\\\_'))\n",
    "\n",
    "    RspR200m_diff = RspR200m_ad14 - RspR200m_ad14gen\n",
    "    plt.plot(Gamma[mask_ad14gen], RspR200m_diff, label=\"Difference between models\".replace('_', '\\\\_'))\n",
    "    print(\"Difference in %: \", abs(100*RspR200m_diff/RspR200m_ad14gen))\n",
    "    plt.legend()\n",
    "    plt.show()\n",
    "\n",
    "main()\n",
    "\n",
    "```\n",
    "Output:\n",
    "```\n",
    "adhikari14Generalized\n",
    "adhikari14\n",
    "more15\n",
    "shi16\n",
    "mansfield17\n",
    "diemer17\n",
    "diemer20\n",
    "Difference in %:  [1.50507702 3.62257011 5.8075424  6.30313469 4.95862271 1.11194448\n",
    " 6.18126625]\n",
    "```\n",
    " \n",
    "For full changes in the colossus code: https://bitbucket.org/maximastaschov/colossus-explorefork/src/501fbba019bb0875012d0a8f41336de31c43c0b9/?at=feature%2FAdhikariGeneralized\n",
    "Alternatively, most important change was the new Delta-Function:\n",
    "```\n",
    "def modelAdhikari14GeneralizedDeltasp(s, Om):\n",
    "    \"\"\" This is a reproduction of the Adhikari14 model already implemented as an attempt to generalize it\"\"\"\n",
    "    #LUT taken from the original function, can be generated through geomspace, too, but I got issues with that that I couldn't resolve yet\n",
    "    c = np.array(\n",
    "        [5.503e+02, 2.370e+02, 1.152e+02, 6.164e+01, 3.562e+01, 2.188e+01, 1.410e+01, 9.431e+00, 6.495e+00, 4.571e+00,\n",
    "         3.266e+00, 2.354e+00, 1.701e+00, 1.223e+00, 8.671e-01, 5.971e-01, 3.896e-01, 2.283e-01, 1.014e-01, 8.349e-04])\n",
    "    bins_Om = np.linspace(1.000e-01, 9.999e-01, 20, endpoint=True)\n",
    "    bins_s = np.geomspace(5.000e-1, 3.999e+00, 20, endpoint=True)\n",
    "\n",
    "    Deltasp_fitting = np.zeros((len(bins_Om), len(bins_s)))\n",
    "\n",
    "    # Constants\n",
    "    A = 38\n",
    "    b = 0.57\n",
    "    c_delta = 0.02\n",
    "    d = 0.2\n",
    "    e = 0.52\n",
    "\n",
    "    # Loop over bins_Om and bins_s to compute the values\n",
    "    for i in range(len(bins_Om)):\n",
    "        for j in range(len(bins_s)):\n",
    "            Deltasp_fitting[i, j] = A * (bins_Om[i] ** (-b - (c_delta * bins_s[j]))) * (np.e ** (\n",
    "                    (d * bins_Om[i]) + (e * (bins_s[j] ** (3 / 4)))))\n",
    "\n",
    "    ####This is a placeholder for the implementation of the real model instead of the fitting function####\n",
    "    Deltasp = Deltasp_fitting\n",
    "    ####\n",
    "\n",
    "    Om_ = np.ones((len(s)), float) * Om\n",
    "    interp = scipy.interpolate.RectBivariateSpline(bins_Om, bins_s, Deltasp)\n",
    "    Delta = interp(Om_, s, grid=False)\n",
    "\n",
    "    if np.max(s) > np.max(bins_s):\n",
    "        raise Exception('Found s = %.2f, greater than max %.2f.' % (np.max(s), np.max(bins_s)))\n",
    "    if np.min(s) < np.min(bins_s):\n",
    "        raise Exception('Found s = %.2f, smaller than min %.2f.' % (np.min(s), np.min(bins_s)))\n",
    "\n",
    "    c = np.interp(s, bins_s, c)\n",
    "    if np.count_nonzero(c < 0.0) > 0:\n",
    "        raise Exception('Found negative concentration values.')\n",
    "\n",
    "    return Delta, c\n",
    "```\n"
   ]
  },
  {
   "cell_type": "markdown",
   "source": [
    "# 3: So what? (What does it mean?)\n",
    "## Describe your results\n",
    "\n",
    "The resulting plot comparing the model to the fitting function shows similarities, but the difference is to big to make use of the fitting function for the further progress. \n",
    "\n",
    "![ComparisonModels.PNG](/img/ComparisonModels.PNG)\n",
    "\n",
    "Still it was very helpful for understanding the structure of the colossus code. Also I looked into how to implement the model itself and struggled with the implementation of a new LUT based on the equation `\\\\Delta_{\\\\rm sp} = M_{\\\\rm sp} / (4 \\\\pi R_{\\\\rm sp}^3 / 3) / \\\\rho_{\\\\rm m}` found in [1]. This step is important to achieve the goal of the implementation of a generalized Delta function.\n",
    "\n"
   ],
   "metadata": {
    "collapsed": false
   }
  },
  {
   "cell_type": "markdown",
   "metadata": {},
   "source": [
    "# 4. Now what? (What's next?)\n",
    "## Plan for the next week\n",
    "\n",
    "The goal now should be to solve the issue with the new model only using the fitting function. Based on that it will be possible to make changes necessery to achieve a generalized Adhikari model."
   ]
  },
  {
   "cell_type": "markdown",
   "source": [],
   "metadata": {
    "collapsed": false
   }
  },
  {
   "cell_type": "markdown",
   "metadata": {},
   "source": [
    "# 5. Bibliography"
   ]
  },
  {
   "cell_type": "markdown",
   "source": [
    "[1] Benedikt Diemer, *COLOSSUS: A PYTHON TOOLKIT FOR COSMOLOGY, LARGE-SCALE STRUCTURE, AND DARK MATTER HALO*, https://arxiv.org/pdf/1712.04512, Accessed: 27/01/25\n",
    "[2] Adhikari et al., *Splashback in accreting dark matter halos*, https://arxiv.org/pdf/1409.4482, Accessed: 10/03/25"
   ],
   "metadata": {
    "collapsed": false
   }
  },
  {
   "cell_type": "markdown",
   "source": [],
   "metadata": {
    "collapsed": false
   }
  },
  {
   "cell_type": "markdown",
   "source": [],
   "metadata": {
    "collapsed": false
   }
  }
 ],
 "metadata": {
  "kernelspec": {
   "display_name": "Python 3",
   "language": "python",
   "name": "python3"
  },
  "language_info": {
   "codemirror_mode": {
    "name": "ipython",
    "version": 3
   },
   "file_extension": ".py",
   "mimetype": "text/x-python",
   "name": "python",
   "nbconvert_exporter": "python",
   "pygments_lexer": "ipython3",
   "version": "3.7.6"
  }
 },
 "nbformat": 4,
 "nbformat_minor": 4
}
